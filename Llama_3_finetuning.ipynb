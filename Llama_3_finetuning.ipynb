{
 "cells": [
  {
   "cell_type": "code",
   "execution_count": 1,
   "id": "a726e48a-1182-494a-a820-af3af83ff8f2",
   "metadata": {
    "execution": {
     "iopub.execute_input": "2024-05-03T12:23:23.420647Z",
     "iopub.status.busy": "2024-05-03T12:23:23.420006Z",
     "iopub.status.idle": "2024-05-03T12:23:57.430306Z",
     "shell.execute_reply": "2024-05-03T12:23:57.429774Z",
     "shell.execute_reply.started": "2024-05-03T12:23:23.420621Z"
    }
   },
   "outputs": [
    {
     "name": "stdout",
     "output_type": "stream",
     "text": [
      "Cloning into 'LLaMA-Factory'...\n",
      "remote: Enumerating objects: 10620, done.\u001b[K\n",
      "remote: Counting objects: 100% (1437/1437), done.\u001b[K\n",
      "remote: Compressing objects: 100% (292/292), done.\u001b[K\n",
      "remote: Total 10620 (delta 1225), reused 1288 (delta 1140), pack-reused 9183\u001b[K\n",
      "Receiving objects: 100% (10620/10620), 214.39 MiB | 36.02 MiB/s, done.\n",
      "Resolving deltas: 100% (7824/7824), done.\n",
      "Updating files: 100% (206/206), done.\n",
      "/notebooks/LLaMA-Factory\n",
      "CITATION.cff  README.md     docker-compose.yml  requirements.txt  \u001b[0m\u001b[01;34mtests\u001b[0m/\n",
      "Dockerfile    README_zh.md  \u001b[01;34mevaluation\u001b[0m/         \u001b[01;34mscripts\u001b[0m/\n",
      "LICENSE       \u001b[01;34massets\u001b[0m/       \u001b[01;34mexamples\u001b[0m/           setup.py\n",
      "Makefile      \u001b[01;34mdata\u001b[0m/         pyproject.toml      \u001b[01;34msrc\u001b[0m/\n",
      "Collecting unsloth[colab-new]@ git+https://github.com/unslothai/unsloth.git\n",
      "  Cloning https://github.com/unslothai/unsloth.git to /tmp/pip-install-c95yyr83/unsloth_77bd7beb557d4b66aecc597445ac3865\n",
      "  Running command git clone --filter=blob:none --quiet https://github.com/unslothai/unsloth.git /tmp/pip-install-c95yyr83/unsloth_77bd7beb557d4b66aecc597445ac3865\n",
      "  Resolved https://github.com/unslothai/unsloth.git to commit 72aee4a3a128268c3d1e5cef249626897996645c\n",
      "  Installing build dependencies ... \u001b[?25ldone\n",
      "\u001b[?25h  Getting requirements to build wheel ... \u001b[?25ldone\n",
      "\u001b[?25h  Installing backend dependencies ... \u001b[?25ldone\n",
      "\u001b[?25h  Preparing metadata (pyproject.toml) ... \u001b[?25ldone\n",
      "\u001b[?25hRequirement already satisfied: wheel>=0.42.0 in /usr/local/lib/python3.9/dist-packages (from unsloth[colab-new]@ git+https://github.com/unslothai/unsloth.git) (0.43.0)\n",
      "Requirement already satisfied: sentencepiece in /usr/local/lib/python3.9/dist-packages (from unsloth[colab-new]@ git+https://github.com/unslothai/unsloth.git) (0.1.97)\n",
      "Requirement already satisfied: tqdm in /usr/local/lib/python3.9/dist-packages (from unsloth[colab-new]@ git+https://github.com/unslothai/unsloth.git) (4.64.1)\n",
      "Requirement already satisfied: protobuf<4.0.0 in /usr/local/lib/python3.9/dist-packages (from unsloth[colab-new]@ git+https://github.com/unslothai/unsloth.git) (3.19.6)\n",
      "Requirement already satisfied: numpy in /usr/local/lib/python3.9/dist-packages (from unsloth[colab-new]@ git+https://github.com/unslothai/unsloth.git) (1.23.4)\n",
      "Requirement already satisfied: tyro in /usr/local/lib/python3.9/dist-packages (from unsloth[colab-new]@ git+https://github.com/unslothai/unsloth.git) (0.8.3)\n",
      "Requirement already satisfied: transformers>=4.38.2 in /usr/local/lib/python3.9/dist-packages (from unsloth[colab-new]@ git+https://github.com/unslothai/unsloth.git) (4.40.1)\n",
      "Requirement already satisfied: datasets>=2.16.0 in /usr/local/lib/python3.9/dist-packages (from unsloth[colab-new]@ git+https://github.com/unslothai/unsloth.git) (2.19.0)\n",
      "Requirement already satisfied: psutil in /usr/local/lib/python3.9/dist-packages (from unsloth[colab-new]@ git+https://github.com/unslothai/unsloth.git) (5.9.4)\n",
      "Requirement already satisfied: requests>=2.19.0 in /usr/local/lib/python3.9/dist-packages (from datasets>=2.16.0->unsloth[colab-new]@ git+https://github.com/unslothai/unsloth.git) (2.31.0)\n",
      "Requirement already satisfied: multiprocess in /usr/local/lib/python3.9/dist-packages (from datasets>=2.16.0->unsloth[colab-new]@ git+https://github.com/unslothai/unsloth.git) (0.70.13)\n",
      "Requirement already satisfied: aiohttp in /usr/local/lib/python3.9/dist-packages (from datasets>=2.16.0->unsloth[colab-new]@ git+https://github.com/unslothai/unsloth.git) (3.8.3)\n",
      "Requirement already satisfied: pandas in /usr/local/lib/python3.9/dist-packages (from datasets>=2.16.0->unsloth[colab-new]@ git+https://github.com/unslothai/unsloth.git) (1.5.0)\n",
      "Requirement already satisfied: packaging in /usr/local/lib/python3.9/dist-packages (from datasets>=2.16.0->unsloth[colab-new]@ git+https://github.com/unslothai/unsloth.git) (23.0)\n",
      "Requirement already satisfied: pyarrow>=12.0.0 in /usr/local/lib/python3.9/dist-packages (from datasets>=2.16.0->unsloth[colab-new]@ git+https://github.com/unslothai/unsloth.git) (16.0.0)\n",
      "Requirement already satisfied: filelock in /usr/local/lib/python3.9/dist-packages (from datasets>=2.16.0->unsloth[colab-new]@ git+https://github.com/unslothai/unsloth.git) (3.9.0)\n",
      "Requirement already satisfied: pyyaml>=5.1 in /usr/local/lib/python3.9/dist-packages (from datasets>=2.16.0->unsloth[colab-new]@ git+https://github.com/unslothai/unsloth.git) (5.4.1)\n",
      "Requirement already satisfied: xxhash in /usr/local/lib/python3.9/dist-packages (from datasets>=2.16.0->unsloth[colab-new]@ git+https://github.com/unslothai/unsloth.git) (3.2.0)\n",
      "Requirement already satisfied: huggingface-hub>=0.21.2 in /usr/local/lib/python3.9/dist-packages (from datasets>=2.16.0->unsloth[colab-new]@ git+https://github.com/unslothai/unsloth.git) (0.23.0)\n",
      "Requirement already satisfied: dill<0.3.9,>=0.3.0 in /usr/local/lib/python3.9/dist-packages (from datasets>=2.16.0->unsloth[colab-new]@ git+https://github.com/unslothai/unsloth.git) (0.3.5.1)\n",
      "Requirement already satisfied: fsspec[http]<=2024.3.1,>=2023.1.0 in /usr/local/lib/python3.9/dist-packages (from datasets>=2.16.0->unsloth[colab-new]@ git+https://github.com/unslothai/unsloth.git) (2024.3.1)\n",
      "Requirement already satisfied: pyarrow-hotfix in /usr/local/lib/python3.9/dist-packages (from datasets>=2.16.0->unsloth[colab-new]@ git+https://github.com/unslothai/unsloth.git) (0.6)\n",
      "Requirement already satisfied: regex!=2019.12.17 in /usr/local/lib/python3.9/dist-packages (from transformers>=4.38.2->unsloth[colab-new]@ git+https://github.com/unslothai/unsloth.git) (2022.10.31)\n",
      "Requirement already satisfied: safetensors>=0.4.1 in /usr/local/lib/python3.9/dist-packages (from transformers>=4.38.2->unsloth[colab-new]@ git+https://github.com/unslothai/unsloth.git) (0.4.3)\n",
      "Requirement already satisfied: tokenizers<0.20,>=0.19 in /usr/local/lib/python3.9/dist-packages (from transformers>=4.38.2->unsloth[colab-new]@ git+https://github.com/unslothai/unsloth.git) (0.19.1)\n",
      "Requirement already satisfied: rich>=11.1.0 in /usr/local/lib/python3.9/dist-packages (from tyro->unsloth[colab-new]@ git+https://github.com/unslothai/unsloth.git) (13.2.0)\n",
      "Requirement already satisfied: docstring-parser>=0.14.1 in /usr/local/lib/python3.9/dist-packages (from tyro->unsloth[colab-new]@ git+https://github.com/unslothai/unsloth.git) (0.16)\n",
      "Requirement already satisfied: eval-type-backport>=0.1.3 in /usr/local/lib/python3.9/dist-packages (from tyro->unsloth[colab-new]@ git+https://github.com/unslothai/unsloth.git) (0.2.0)\n",
      "Requirement already satisfied: shtab>=1.5.6 in /usr/local/lib/python3.9/dist-packages (from tyro->unsloth[colab-new]@ git+https://github.com/unslothai/unsloth.git) (1.7.1)\n",
      "Requirement already satisfied: typing-extensions>=4.7.0 in /usr/local/lib/python3.9/dist-packages (from tyro->unsloth[colab-new]@ git+https://github.com/unslothai/unsloth.git) (4.11.0)\n",
      "Requirement already satisfied: charset-normalizer<3.0,>=2.0 in /usr/local/lib/python3.9/dist-packages (from aiohttp->datasets>=2.16.0->unsloth[colab-new]@ git+https://github.com/unslothai/unsloth.git) (2.1.1)\n",
      "Requirement already satisfied: attrs>=17.3.0 in /usr/local/lib/python3.9/dist-packages (from aiohttp->datasets>=2.16.0->unsloth[colab-new]@ git+https://github.com/unslothai/unsloth.git) (18.2.0)\n",
      "Requirement already satisfied: multidict<7.0,>=4.5 in /usr/local/lib/python3.9/dist-packages (from aiohttp->datasets>=2.16.0->unsloth[colab-new]@ git+https://github.com/unslothai/unsloth.git) (6.0.4)\n",
      "Requirement already satisfied: aiosignal>=1.1.2 in /usr/local/lib/python3.9/dist-packages (from aiohttp->datasets>=2.16.0->unsloth[colab-new]@ git+https://github.com/unslothai/unsloth.git) (1.3.1)\n",
      "Requirement already satisfied: async-timeout<5.0,>=4.0.0a3 in /usr/local/lib/python3.9/dist-packages (from aiohttp->datasets>=2.16.0->unsloth[colab-new]@ git+https://github.com/unslothai/unsloth.git) (4.0.2)\n",
      "Requirement already satisfied: frozenlist>=1.1.1 in /usr/local/lib/python3.9/dist-packages (from aiohttp->datasets>=2.16.0->unsloth[colab-new]@ git+https://github.com/unslothai/unsloth.git) (1.3.3)\n",
      "Requirement already satisfied: yarl<2.0,>=1.0 in /usr/local/lib/python3.9/dist-packages (from aiohttp->datasets>=2.16.0->unsloth[colab-new]@ git+https://github.com/unslothai/unsloth.git) (1.8.2)\n",
      "Requirement already satisfied: certifi>=2017.4.17 in /usr/lib/python3/dist-packages (from requests>=2.19.0->datasets>=2.16.0->unsloth[colab-new]@ git+https://github.com/unslothai/unsloth.git) (2019.11.28)\n",
      "Requirement already satisfied: idna<4,>=2.5 in /usr/lib/python3/dist-packages (from requests>=2.19.0->datasets>=2.16.0->unsloth[colab-new]@ git+https://github.com/unslothai/unsloth.git) (2.8)\n",
      "Requirement already satisfied: urllib3<3,>=1.21.1 in /usr/local/lib/python3.9/dist-packages (from requests>=2.19.0->datasets>=2.16.0->unsloth[colab-new]@ git+https://github.com/unslothai/unsloth.git) (1.26.18)\n",
      "Requirement already satisfied: markdown-it-py<3.0.0,>=2.1.0 in /usr/local/lib/python3.9/dist-packages (from rich>=11.1.0->tyro->unsloth[colab-new]@ git+https://github.com/unslothai/unsloth.git) (2.1.0)\n",
      "Requirement already satisfied: pygments<3.0.0,>=2.6.0 in /usr/local/lib/python3.9/dist-packages (from rich>=11.1.0->tyro->unsloth[colab-new]@ git+https://github.com/unslothai/unsloth.git) (2.14.0)\n",
      "Requirement already satisfied: pytz>=2020.1 in /usr/local/lib/python3.9/dist-packages (from pandas->datasets>=2.16.0->unsloth[colab-new]@ git+https://github.com/unslothai/unsloth.git) (2022.7.1)\n",
      "Requirement already satisfied: python-dateutil>=2.8.1 in /usr/local/lib/python3.9/dist-packages (from pandas->datasets>=2.16.0->unsloth[colab-new]@ git+https://github.com/unslothai/unsloth.git) (2.8.2)\n",
      "Requirement already satisfied: mdurl~=0.1 in /usr/local/lib/python3.9/dist-packages (from markdown-it-py<3.0.0,>=2.1.0->rich>=11.1.0->tyro->unsloth[colab-new]@ git+https://github.com/unslothai/unsloth.git) (0.1.2)\n",
      "Requirement already satisfied: six>=1.5 in /usr/lib/python3/dist-packages (from python-dateutil>=2.8.1->pandas->datasets>=2.16.0->unsloth[colab-new]@ git+https://github.com/unslothai/unsloth.git) (1.14.0)\n",
      "\u001b[33mWARNING: Running pip as the 'root' user can result in broken permissions and conflicting behaviour with the system package manager. It is recommended to use a virtual environment instead: https://pip.pypa.io/warnings/venv\u001b[0m\u001b[33m\n",
      "\u001b[0mRequirement already satisfied: xformers==0.0.25 in /usr/local/lib/python3.9/dist-packages (0.0.25)\n",
      "\u001b[33mWARNING: Running pip as the 'root' user can result in broken permissions and conflicting behaviour with the system package manager. It is recommended to use a virtual environment instead: https://pip.pypa.io/warnings/venv\u001b[0m\u001b[33m\n",
      "\u001b[0mProcessing /notebooks/LLaMA-Factory\n",
      "  Installing build dependencies ... \u001b[?25ldone\n",
      "\u001b[?25h  Getting requirements to build wheel ... \u001b[?25ldone\n",
      "\u001b[?25h  Installing backend dependencies ... \u001b[?25ldone\n",
      "\u001b[?25h  Preparing metadata (pyproject.toml) ... \u001b[?25ldone\n",
      "\u001b[?25hRequirement already satisfied: gradio>=4.0.0 in /usr/local/lib/python3.9/dist-packages (from llmtuner==0.7.1.dev0) (4.28.3)\n",
      "Requirement already satisfied: pyyaml in /usr/local/lib/python3.9/dist-packages (from llmtuner==0.7.1.dev0) (5.4.1)\n",
      "Requirement already satisfied: trl>=0.8.1 in /usr/local/lib/python3.9/dist-packages (from llmtuner==0.7.1.dev0) (0.8.6)\n",
      "Requirement already satisfied: pydantic in /usr/local/lib/python3.9/dist-packages (from llmtuner==0.7.1.dev0) (2.7.1)\n",
      "Requirement already satisfied: matplotlib in /usr/local/lib/python3.9/dist-packages (from llmtuner==0.7.1.dev0) (3.6.1)\n",
      "Requirement already satisfied: peft>=0.10.0 in /usr/local/lib/python3.9/dist-packages (from llmtuner==0.7.1.dev0) (0.10.0)\n",
      "Requirement already satisfied: sentencepiece in /usr/local/lib/python3.9/dist-packages (from llmtuner==0.7.1.dev0) (0.1.97)\n",
      "Requirement already satisfied: torch>=1.13.1 in /usr/local/lib/python3.9/dist-packages (from llmtuner==0.7.1.dev0) (2.3.0)\n",
      "Requirement already satisfied: datasets>=2.14.3 in /usr/local/lib/python3.9/dist-packages (from llmtuner==0.7.1.dev0) (2.19.0)\n",
      "Requirement already satisfied: uvicorn in /usr/local/lib/python3.9/dist-packages (from llmtuner==0.7.1.dev0) (0.29.0)\n",
      "Requirement already satisfied: protobuf in /usr/local/lib/python3.9/dist-packages (from llmtuner==0.7.1.dev0) (3.19.6)\n",
      "Requirement already satisfied: scipy in /usr/local/lib/python3.9/dist-packages (from llmtuner==0.7.1.dev0) (1.9.2)\n",
      "Requirement already satisfied: einops in /usr/local/lib/python3.9/dist-packages (from llmtuner==0.7.1.dev0) (0.8.0)\n",
      "Requirement already satisfied: transformers>=4.37.2 in /usr/local/lib/python3.9/dist-packages (from llmtuner==0.7.1.dev0) (4.40.1)\n",
      "Requirement already satisfied: sse-starlette in /usr/local/lib/python3.9/dist-packages (from llmtuner==0.7.1.dev0) (2.1.0)\n",
      "Requirement already satisfied: fire in /usr/local/lib/python3.9/dist-packages (from llmtuner==0.7.1.dev0) (0.6.0)\n",
      "Requirement already satisfied: packaging in /usr/local/lib/python3.9/dist-packages (from llmtuner==0.7.1.dev0) (23.0)\n",
      "Requirement already satisfied: fastapi in /usr/local/lib/python3.9/dist-packages (from llmtuner==0.7.1.dev0) (0.111.0)\n",
      "Requirement already satisfied: accelerate>=0.27.2 in /usr/local/lib/python3.9/dist-packages (from llmtuner==0.7.1.dev0) (0.29.3)\n",
      "Requirement already satisfied: bitsandbytes>=0.39.0 in /usr/local/lib/python3.9/dist-packages (from llmtuner==0.7.1.dev0) (0.43.1)\n",
      "Requirement already satisfied: psutil in /usr/local/lib/python3.9/dist-packages (from accelerate>=0.27.2->llmtuner==0.7.1.dev0) (5.9.4)\n",
      "Requirement already satisfied: huggingface-hub in /usr/local/lib/python3.9/dist-packages (from accelerate>=0.27.2->llmtuner==0.7.1.dev0) (0.23.0)\n",
      "Requirement already satisfied: numpy>=1.17 in /usr/local/lib/python3.9/dist-packages (from accelerate>=0.27.2->llmtuner==0.7.1.dev0) (1.23.4)\n",
      "Requirement already satisfied: safetensors>=0.3.1 in /usr/local/lib/python3.9/dist-packages (from accelerate>=0.27.2->llmtuner==0.7.1.dev0) (0.4.3)\n",
      "Requirement already satisfied: pyarrow>=12.0.0 in /usr/local/lib/python3.9/dist-packages (from datasets>=2.14.3->llmtuner==0.7.1.dev0) (16.0.0)\n",
      "Requirement already satisfied: requests>=2.19.0 in /usr/local/lib/python3.9/dist-packages (from datasets>=2.14.3->llmtuner==0.7.1.dev0) (2.31.0)\n",
      "Requirement already satisfied: multiprocess in /usr/local/lib/python3.9/dist-packages (from datasets>=2.14.3->llmtuner==0.7.1.dev0) (0.70.13)\n",
      "Requirement already satisfied: aiohttp in /usr/local/lib/python3.9/dist-packages (from datasets>=2.14.3->llmtuner==0.7.1.dev0) (3.8.3)\n",
      "Requirement already satisfied: tqdm>=4.62.1 in /usr/local/lib/python3.9/dist-packages (from datasets>=2.14.3->llmtuner==0.7.1.dev0) (4.64.1)\n",
      "Requirement already satisfied: pandas in /usr/local/lib/python3.9/dist-packages (from datasets>=2.14.3->llmtuner==0.7.1.dev0) (1.5.0)\n",
      "Requirement already satisfied: fsspec[http]<=2024.3.1,>=2023.1.0 in /usr/local/lib/python3.9/dist-packages (from datasets>=2.14.3->llmtuner==0.7.1.dev0) (2024.3.1)\n",
      "Requirement already satisfied: xxhash in /usr/local/lib/python3.9/dist-packages (from datasets>=2.14.3->llmtuner==0.7.1.dev0) (3.2.0)\n",
      "Requirement already satisfied: pyarrow-hotfix in /usr/local/lib/python3.9/dist-packages (from datasets>=2.14.3->llmtuner==0.7.1.dev0) (0.6)\n",
      "Requirement already satisfied: filelock in /usr/local/lib/python3.9/dist-packages (from datasets>=2.14.3->llmtuner==0.7.1.dev0) (3.9.0)\n",
      "Requirement already satisfied: dill<0.3.9,>=0.3.0 in /usr/local/lib/python3.9/dist-packages (from datasets>=2.14.3->llmtuner==0.7.1.dev0) (0.3.5.1)\n",
      "Requirement already satisfied: altair<6.0,>=4.2.0 in /usr/local/lib/python3.9/dist-packages (from gradio>=4.0.0->llmtuner==0.7.1.dev0) (5.3.0)\n",
      "Requirement already satisfied: aiofiles<24.0,>=22.0 in /usr/local/lib/python3.9/dist-packages (from gradio>=4.0.0->llmtuner==0.7.1.dev0) (23.2.1)\n",
      "Requirement already satisfied: semantic-version~=2.0 in /usr/local/lib/python3.9/dist-packages (from gradio>=4.0.0->llmtuner==0.7.1.dev0) (2.10.0)\n",
      "Collecting urllib3~=2.0\n",
      "  Using cached urllib3-2.2.1-py3-none-any.whl (121 kB)\n",
      "Requirement already satisfied: orjson~=3.0 in /usr/local/lib/python3.9/dist-packages (from gradio>=4.0.0->llmtuner==0.7.1.dev0) (3.10.2)\n",
      "Requirement already satisfied: markupsafe~=2.0 in /usr/local/lib/python3.9/dist-packages (from gradio>=4.0.0->llmtuner==0.7.1.dev0) (2.1.2)\n",
      "Requirement already satisfied: importlib-resources<7.0,>=1.3 in /usr/local/lib/python3.9/dist-packages (from gradio>=4.0.0->llmtuner==0.7.1.dev0) (5.10.2)\n",
      "Requirement already satisfied: ruff>=0.2.2 in /usr/local/lib/python3.9/dist-packages (from gradio>=4.0.0->llmtuner==0.7.1.dev0) (0.4.2)\n",
      "Requirement already satisfied: jinja2<4.0 in /usr/local/lib/python3.9/dist-packages (from gradio>=4.0.0->llmtuner==0.7.1.dev0) (3.1.2)\n",
      "Requirement already satisfied: pillow<11.0,>=8.0 in /usr/local/lib/python3.9/dist-packages (from gradio>=4.0.0->llmtuner==0.7.1.dev0) (9.2.0)\n",
      "Requirement already satisfied: tomlkit==0.12.0 in /usr/local/lib/python3.9/dist-packages (from gradio>=4.0.0->llmtuner==0.7.1.dev0) (0.12.0)\n",
      "Requirement already satisfied: typer<1.0,>=0.12 in /usr/local/lib/python3.9/dist-packages (from gradio>=4.0.0->llmtuner==0.7.1.dev0) (0.12.3)\n",
      "Requirement already satisfied: httpx>=0.24.1 in /usr/local/lib/python3.9/dist-packages (from gradio>=4.0.0->llmtuner==0.7.1.dev0) (0.27.0)\n",
      "Requirement already satisfied: python-multipart>=0.0.9 in /usr/local/lib/python3.9/dist-packages (from gradio>=4.0.0->llmtuner==0.7.1.dev0) (0.0.9)\n",
      "Requirement already satisfied: gradio-client==0.16.0 in /usr/local/lib/python3.9/dist-packages (from gradio>=4.0.0->llmtuner==0.7.1.dev0) (0.16.0)\n",
      "Requirement already satisfied: typing-extensions~=4.0 in /usr/local/lib/python3.9/dist-packages (from gradio>=4.0.0->llmtuner==0.7.1.dev0) (4.11.0)\n",
      "Requirement already satisfied: ffmpy in /usr/local/lib/python3.9/dist-packages (from gradio>=4.0.0->llmtuner==0.7.1.dev0) (0.3.2)\n",
      "Requirement already satisfied: pydub in /usr/local/lib/python3.9/dist-packages (from gradio>=4.0.0->llmtuner==0.7.1.dev0) (0.25.1)\n",
      "Requirement already satisfied: websockets<12.0,>=10.0 in /usr/local/lib/python3.9/dist-packages (from gradio-client==0.16.0->gradio>=4.0.0->llmtuner==0.7.1.dev0) (11.0.3)\n",
      "Requirement already satisfied: contourpy>=1.0.1 in /usr/local/lib/python3.9/dist-packages (from matplotlib->llmtuner==0.7.1.dev0) (1.0.7)\n",
      "Requirement already satisfied: pyparsing>=2.2.1 in /usr/local/lib/python3.9/dist-packages (from matplotlib->llmtuner==0.7.1.dev0) (3.0.9)\n",
      "Requirement already satisfied: cycler>=0.10 in /usr/local/lib/python3.9/dist-packages (from matplotlib->llmtuner==0.7.1.dev0) (0.11.0)\n",
      "Requirement already satisfied: kiwisolver>=1.0.1 in /usr/local/lib/python3.9/dist-packages (from matplotlib->llmtuner==0.7.1.dev0) (1.4.4)\n",
      "Requirement already satisfied: fonttools>=4.22.0 in /usr/local/lib/python3.9/dist-packages (from matplotlib->llmtuner==0.7.1.dev0) (4.38.0)\n",
      "Requirement already satisfied: python-dateutil>=2.7 in /usr/local/lib/python3.9/dist-packages (from matplotlib->llmtuner==0.7.1.dev0) (2.8.2)\n",
      "Requirement already satisfied: pydantic-core==2.18.2 in /usr/local/lib/python3.9/dist-packages (from pydantic->llmtuner==0.7.1.dev0) (2.18.2)\n",
      "Requirement already satisfied: annotated-types>=0.4.0 in /usr/local/lib/python3.9/dist-packages (from pydantic->llmtuner==0.7.1.dev0) (0.6.0)\n",
      "Requirement already satisfied: sympy in /usr/local/lib/python3.9/dist-packages (from torch>=1.13.1->llmtuner==0.7.1.dev0) (1.12)\n",
      "Requirement already satisfied: nvidia-cuda-cupti-cu12==12.1.105 in /usr/local/lib/python3.9/dist-packages (from torch>=1.13.1->llmtuner==0.7.1.dev0) (12.1.105)\n",
      "Requirement already satisfied: triton==2.3.0 in /usr/local/lib/python3.9/dist-packages (from torch>=1.13.1->llmtuner==0.7.1.dev0) (2.3.0)\n",
      "Requirement already satisfied: nvidia-cufft-cu12==11.0.2.54 in /usr/local/lib/python3.9/dist-packages (from torch>=1.13.1->llmtuner==0.7.1.dev0) (11.0.2.54)\n",
      "Requirement already satisfied: nvidia-cuda-nvrtc-cu12==12.1.105 in /usr/local/lib/python3.9/dist-packages (from torch>=1.13.1->llmtuner==0.7.1.dev0) (12.1.105)\n",
      "Requirement already satisfied: nvidia-cublas-cu12==12.1.3.1 in /usr/local/lib/python3.9/dist-packages (from torch>=1.13.1->llmtuner==0.7.1.dev0) (12.1.3.1)\n",
      "Requirement already satisfied: nvidia-nvtx-cu12==12.1.105 in /usr/local/lib/python3.9/dist-packages (from torch>=1.13.1->llmtuner==0.7.1.dev0) (12.1.105)\n",
      "Requirement already satisfied: networkx in /usr/local/lib/python3.9/dist-packages (from torch>=1.13.1->llmtuner==0.7.1.dev0) (3.0)\n",
      "Requirement already satisfied: nvidia-curand-cu12==10.3.2.106 in /usr/local/lib/python3.9/dist-packages (from torch>=1.13.1->llmtuner==0.7.1.dev0) (10.3.2.106)\n",
      "Requirement already satisfied: nvidia-cusolver-cu12==11.4.5.107 in /usr/local/lib/python3.9/dist-packages (from torch>=1.13.1->llmtuner==0.7.1.dev0) (11.4.5.107)\n",
      "Requirement already satisfied: nvidia-cudnn-cu12==8.9.2.26 in /usr/local/lib/python3.9/dist-packages (from torch>=1.13.1->llmtuner==0.7.1.dev0) (8.9.2.26)\n",
      "Requirement already satisfied: nvidia-cusparse-cu12==12.1.0.106 in /usr/local/lib/python3.9/dist-packages (from torch>=1.13.1->llmtuner==0.7.1.dev0) (12.1.0.106)\n",
      "Requirement already satisfied: nvidia-nccl-cu12==2.20.5 in /usr/local/lib/python3.9/dist-packages (from torch>=1.13.1->llmtuner==0.7.1.dev0) (2.20.5)\n",
      "Requirement already satisfied: nvidia-cuda-runtime-cu12==12.1.105 in /usr/local/lib/python3.9/dist-packages (from torch>=1.13.1->llmtuner==0.7.1.dev0) (12.1.105)\n",
      "Requirement already satisfied: nvidia-nvjitlink-cu12 in /usr/local/lib/python3.9/dist-packages (from nvidia-cusolver-cu12==11.4.5.107->torch>=1.13.1->llmtuner==0.7.1.dev0) (12.4.127)\n",
      "Requirement already satisfied: regex!=2019.12.17 in /usr/local/lib/python3.9/dist-packages (from transformers>=4.37.2->llmtuner==0.7.1.dev0) (2022.10.31)\n",
      "Requirement already satisfied: tokenizers<0.20,>=0.19 in /usr/local/lib/python3.9/dist-packages (from transformers>=4.37.2->llmtuner==0.7.1.dev0) (0.19.1)\n",
      "Requirement already satisfied: tyro>=0.5.11 in /usr/local/lib/python3.9/dist-packages (from trl>=0.8.1->llmtuner==0.7.1.dev0) (0.8.3)\n",
      "Requirement already satisfied: h11>=0.8 in /usr/local/lib/python3.9/dist-packages (from uvicorn->llmtuner==0.7.1.dev0) (0.14.0)\n",
      "Requirement already satisfied: click>=7.0 in /usr/local/lib/python3.9/dist-packages (from uvicorn->llmtuner==0.7.1.dev0) (8.1.3)\n",
      "Requirement already satisfied: starlette<0.38.0,>=0.37.2 in /usr/local/lib/python3.9/dist-packages (from fastapi->llmtuner==0.7.1.dev0) (0.37.2)\n",
      "Requirement already satisfied: ujson!=4.0.2,!=4.1.0,!=4.2.0,!=4.3.0,!=5.0.0,!=5.1.0,>=4.0.1 in /usr/local/lib/python3.9/dist-packages (from fastapi->llmtuner==0.7.1.dev0) (5.9.0)\n",
      "Requirement already satisfied: fastapi-cli>=0.0.2 in /usr/local/lib/python3.9/dist-packages (from fastapi->llmtuner==0.7.1.dev0) (0.0.2)\n",
      "Requirement already satisfied: email_validator>=2.0.0 in /usr/local/lib/python3.9/dist-packages (from fastapi->llmtuner==0.7.1.dev0) (2.1.1)\n",
      "Requirement already satisfied: six in /usr/lib/python3/dist-packages (from fire->llmtuner==0.7.1.dev0) (1.14.0)\n",
      "Requirement already satisfied: termcolor in /usr/local/lib/python3.9/dist-packages (from fire->llmtuner==0.7.1.dev0) (2.2.0)\n",
      "Requirement already satisfied: anyio in /usr/local/lib/python3.9/dist-packages (from sse-starlette->llmtuner==0.7.1.dev0) (3.6.2)\n",
      "Requirement already satisfied: toolz in /usr/local/lib/python3.9/dist-packages (from altair<6.0,>=4.2.0->gradio>=4.0.0->llmtuner==0.7.1.dev0) (0.12.0)\n",
      "Requirement already satisfied: jsonschema>=3.0 in /usr/local/lib/python3.9/dist-packages (from altair<6.0,>=4.2.0->gradio>=4.0.0->llmtuner==0.7.1.dev0) (4.17.3)\n",
      "Requirement already satisfied: idna>=2.0.0 in /usr/lib/python3/dist-packages (from email_validator>=2.0.0->fastapi->llmtuner==0.7.1.dev0) (2.8)\n",
      "Requirement already satisfied: dnspython>=2.0.0 in /usr/local/lib/python3.9/dist-packages (from email_validator>=2.0.0->fastapi->llmtuner==0.7.1.dev0) (2.6.1)\n",
      "Requirement already satisfied: multidict<7.0,>=4.5 in /usr/local/lib/python3.9/dist-packages (from aiohttp->datasets>=2.14.3->llmtuner==0.7.1.dev0) (6.0.4)\n",
      "Requirement already satisfied: yarl<2.0,>=1.0 in /usr/local/lib/python3.9/dist-packages (from aiohttp->datasets>=2.14.3->llmtuner==0.7.1.dev0) (1.8.2)\n",
      "Requirement already satisfied: frozenlist>=1.1.1 in /usr/local/lib/python3.9/dist-packages (from aiohttp->datasets>=2.14.3->llmtuner==0.7.1.dev0) (1.3.3)\n",
      "Requirement already satisfied: charset-normalizer<3.0,>=2.0 in /usr/local/lib/python3.9/dist-packages (from aiohttp->datasets>=2.14.3->llmtuner==0.7.1.dev0) (2.1.1)\n",
      "Requirement already satisfied: attrs>=17.3.0 in /usr/local/lib/python3.9/dist-packages (from aiohttp->datasets>=2.14.3->llmtuner==0.7.1.dev0) (18.2.0)\n",
      "Requirement already satisfied: async-timeout<5.0,>=4.0.0a3 in /usr/local/lib/python3.9/dist-packages (from aiohttp->datasets>=2.14.3->llmtuner==0.7.1.dev0) (4.0.2)\n",
      "Requirement already satisfied: aiosignal>=1.1.2 in /usr/local/lib/python3.9/dist-packages (from aiohttp->datasets>=2.14.3->llmtuner==0.7.1.dev0) (1.3.1)\n",
      "Requirement already satisfied: certifi in /usr/lib/python3/dist-packages (from httpx>=0.24.1->gradio>=4.0.0->llmtuner==0.7.1.dev0) (2019.11.28)\n",
      "Requirement already satisfied: sniffio in /usr/local/lib/python3.9/dist-packages (from httpx>=0.24.1->gradio>=4.0.0->llmtuner==0.7.1.dev0) (1.3.0)\n",
      "Requirement already satisfied: httpcore==1.* in /usr/local/lib/python3.9/dist-packages (from httpx>=0.24.1->gradio>=4.0.0->llmtuner==0.7.1.dev0) (1.0.5)\n",
      "Requirement already satisfied: zipp>=3.1.0 in /usr/local/lib/python3.9/dist-packages (from importlib-resources<7.0,>=1.3->gradio>=4.0.0->llmtuner==0.7.1.dev0) (3.11.0)\n",
      "Requirement already satisfied: pytz>=2020.1 in /usr/local/lib/python3.9/dist-packages (from pandas->datasets>=2.14.3->llmtuner==0.7.1.dev0) (2022.7.1)\n",
      "Requirement already satisfied: rich>=10.11.0 in /usr/local/lib/python3.9/dist-packages (from typer<1.0,>=0.12->gradio>=4.0.0->llmtuner==0.7.1.dev0) (13.2.0)\n",
      "Requirement already satisfied: shellingham>=1.3.0 in /usr/local/lib/python3.9/dist-packages (from typer<1.0,>=0.12->gradio>=4.0.0->llmtuner==0.7.1.dev0) (1.5.0.post1)\n",
      "Requirement already satisfied: eval-type-backport>=0.1.3 in /usr/local/lib/python3.9/dist-packages (from tyro>=0.5.11->trl>=0.8.1->llmtuner==0.7.1.dev0) (0.2.0)\n",
      "Requirement already satisfied: shtab>=1.5.6 in /usr/local/lib/python3.9/dist-packages (from tyro>=0.5.11->trl>=0.8.1->llmtuner==0.7.1.dev0) (1.7.1)\n",
      "Requirement already satisfied: docstring-parser>=0.14.1 in /usr/local/lib/python3.9/dist-packages (from tyro>=0.5.11->trl>=0.8.1->llmtuner==0.7.1.dev0) (0.16)\n",
      "Requirement already satisfied: uvloop!=0.15.0,!=0.15.1,>=0.14.0 in /usr/local/lib/python3.9/dist-packages (from uvicorn->llmtuner==0.7.1.dev0) (0.19.0)\n",
      "Requirement already satisfied: python-dotenv>=0.13 in /usr/local/lib/python3.9/dist-packages (from uvicorn->llmtuner==0.7.1.dev0) (1.0.1)\n",
      "Requirement already satisfied: httptools>=0.5.0 in /usr/local/lib/python3.9/dist-packages (from uvicorn->llmtuner==0.7.1.dev0) (0.6.1)\n",
      "Requirement already satisfied: watchfiles>=0.13 in /usr/local/lib/python3.9/dist-packages (from uvicorn->llmtuner==0.7.1.dev0) (0.21.0)\n",
      "Requirement already satisfied: mpmath>=0.19 in /usr/local/lib/python3.9/dist-packages (from sympy->torch>=1.13.1->llmtuner==0.7.1.dev0) (1.3.0)\n",
      "Requirement already satisfied: pyrsistent!=0.17.0,!=0.17.1,!=0.17.2,>=0.14.0 in /usr/local/lib/python3.9/dist-packages (from jsonschema>=3.0->altair<6.0,>=4.2.0->gradio>=4.0.0->llmtuner==0.7.1.dev0) (0.19.3)\n",
      "Requirement already satisfied: markdown-it-py<3.0.0,>=2.1.0 in /usr/local/lib/python3.9/dist-packages (from rich>=10.11.0->typer<1.0,>=0.12->gradio>=4.0.0->llmtuner==0.7.1.dev0) (2.1.0)\n",
      "Requirement already satisfied: pygments<3.0.0,>=2.6.0 in /usr/local/lib/python3.9/dist-packages (from rich>=10.11.0->typer<1.0,>=0.12->gradio>=4.0.0->llmtuner==0.7.1.dev0) (2.14.0)\n",
      "Requirement already satisfied: mdurl~=0.1 in /usr/local/lib/python3.9/dist-packages (from markdown-it-py<3.0.0,>=2.1.0->rich>=10.11.0->typer<1.0,>=0.12->gradio>=4.0.0->llmtuner==0.7.1.dev0) (0.1.2)\n",
      "Building wheels for collected packages: llmtuner\n",
      "  Building wheel for llmtuner (pyproject.toml) ... \u001b[?25ldone\n",
      "\u001b[?25h  Created wheel for llmtuner: filename=llmtuner-0.7.1.dev0-py3-none-any.whl size=158054 sha256=95d88b7a0f29454579a3bc7d5c1efa2517c637cc2df041d081a3d802be15d8b7\n",
      "  Stored in directory: /root/.cache/pip/wheels/c3/14/03/7c3dbc16e6fb20749ec717679c4cdeb681ba5126b2c54fa55b\n",
      "Successfully built llmtuner\n",
      "Installing collected packages: urllib3, llmtuner\n",
      "  Attempting uninstall: urllib3\n",
      "    Found existing installation: urllib3 1.26.18\n",
      "    Uninstalling urllib3-1.26.18:\n",
      "      Successfully uninstalled urllib3-1.26.18\n",
      "  Attempting uninstall: llmtuner\n",
      "    Found existing installation: llmtuner 0.7.1.dev0\n",
      "    Uninstalling llmtuner-0.7.1.dev0:\n",
      "      Successfully uninstalled llmtuner-0.7.1.dev0\n",
      "\u001b[31mERROR: pip's dependency resolver does not currently take into account all the packages that are installed. This behaviour is the source of the following dependency conflicts.\n",
      "botocore 1.27.90 requires urllib3<1.27,>=1.25.4, but you have urllib3 2.2.1 which is incompatible.\u001b[0m\u001b[31m\n",
      "\u001b[0mSuccessfully installed llmtuner-0.7.1.dev0 urllib3-2.2.1\n",
      "\u001b[33mWARNING: Running pip as the 'root' user can result in broken permissions and conflicting behaviour with the system package manager. It is recommended to use a virtual environment instead: https://pip.pypa.io/warnings/venv\u001b[0m\u001b[33m\n",
      "\u001b[0m"
     ]
    }
   ],
   "source": [
    "%rm -rf LLaMA-Factory\n",
    "!git clone https://github.com/hiyouga/LLaMA-Factory.git\n",
    "%cd LLaMA-Factory\n",
    "%ls\n",
    "!pip install \"unsloth[colab-new] @ git+https://github.com/unslothai/unsloth.git\"\n",
    "!pip install --no-deps xformers==0.0.25\n",
    "!pip install .[bitsandbytes]"
   ]
  },
  {
   "cell_type": "code",
   "execution_count": 2,
   "id": "987fc2c7-00f9-4708-bb4c-35630f69eeb3",
   "metadata": {
    "execution": {
     "iopub.execute_input": "2024-05-03T12:24:04.278237Z",
     "iopub.status.busy": "2024-05-03T12:24:04.277401Z",
     "iopub.status.idle": "2024-05-03T12:24:05.123444Z",
     "shell.execute_reply": "2024-05-03T12:24:05.122756Z",
     "shell.execute_reply.started": "2024-05-03T12:24:04.278207Z"
    }
   },
   "outputs": [
    {
     "name": "stdout",
     "output_type": "stream",
     "text": [
      "Fri May  3 12:24:04 2024       \n",
      "+-----------------------------------------------------------------------------+\n",
      "| NVIDIA-SMI 525.116.04   Driver Version: 525.116.04   CUDA Version: 12.0     |\n",
      "|-------------------------------+----------------------+----------------------+\n",
      "| GPU  Name        Persistence-M| Bus-Id        Disp.A | Volatile Uncorr. ECC |\n",
      "| Fan  Temp  Perf  Pwr:Usage/Cap|         Memory-Usage | GPU-Util  Compute M. |\n",
      "|                               |                      |               MIG M. |\n",
      "|===============================+======================+======================|\n",
      "|   0  NVIDIA RTX A4000    Off  | 00000000:00:05.0 Off |                  Off |\n",
      "| 41%   40C    P8    16W / 140W |      1MiB / 16376MiB |      0%      Default |\n",
      "|                               |                      |                  N/A |\n",
      "+-------------------------------+----------------------+----------------------+\n",
      "                                                                               \n",
      "+-----------------------------------------------------------------------------+\n",
      "| Processes:                                                                  |\n",
      "|  GPU   GI   CI        PID   Type   Process name                  GPU Memory |\n",
      "|        ID   ID                                                   Usage      |\n",
      "|=============================================================================|\n",
      "|  No running processes found                                                 |\n",
      "+-----------------------------------------------------------------------------+\n"
     ]
    }
   ],
   "source": [
    "!nvidia-smi"
   ]
  },
  {
   "cell_type": "code",
   "execution_count": 3,
   "id": "702d1afc-e163-4b20-9c4d-d180a7aa4e0d",
   "metadata": {
    "execution": {
     "iopub.execute_input": "2024-05-03T12:24:07.439760Z",
     "iopub.status.busy": "2024-05-03T12:24:07.439104Z",
     "iopub.status.idle": "2024-05-03T12:24:09.444168Z",
     "shell.execute_reply": "2024-05-03T12:24:09.443480Z",
     "shell.execute_reply.started": "2024-05-03T12:24:07.439732Z"
    }
   },
   "outputs": [],
   "source": [
    "import torch\n",
    "try:\n",
    "    assert torch.cuda.is_available() is True\n",
    "except AssertionError:\n",
    "    print(\"Set up a GPU before using llama factory!\")"
   ]
  },
  {
   "cell_type": "code",
   "execution_count": 4,
   "id": "d7ca0a49-5630-4c62-a0a3-6df4fce66e73",
   "metadata": {
    "execution": {
     "iopub.execute_input": "2024-05-03T12:24:12.538338Z",
     "iopub.status.busy": "2024-05-03T12:24:12.537690Z",
     "iopub.status.idle": "2024-05-03T12:24:12.549855Z",
     "shell.execute_reply": "2024-05-03T12:24:12.549464Z",
     "shell.execute_reply.started": "2024-05-03T12:24:12.538313Z"
    }
   },
   "outputs": [
    {
     "name": "stdout",
     "output_type": "stream",
     "text": [
      "/notebooks/LLaMA-Factory\n"
     ]
    }
   ],
   "source": [
    "import json\n",
    "\n",
    "%cd /notebooks/LLaMA-Factory\n",
    "\n",
    "MODEL_NAME = \"Llama-3\"\n",
    "AUTHOR = \"LLaMA Factory\"\n",
    "\n",
    "with open(\"/notebooks/LLaMA-Factory/data/identity.json\", \"r\", encoding=\"utf-8\") as f:\n",
    "    dataset = json.load(f)\n",
    "\n",
    "for sample in dataset:\n",
    "    sample[\"output\"] = sample[\"output\"].replace(\"MODEL_NAME\", MODEL_NAME).replace(\"AUTHOR\", AUTHOR)\n",
    "\n",
    "with open(\"/notebooks/LLaMA-Factory/data/identity.json\", \"w\", encoding=\"utf-8\") as f:\n",
    "    json.dump(dataset, f, indent=2, ensure_ascii=False)"
   ]
  },
  {
   "cell_type": "code",
   "execution_count": 8,
   "id": "d385c635-3cb2-41d6-b2bc-9653135a9500",
   "metadata": {
    "execution": {
     "iopub.execute_input": "2024-05-03T12:06:16.843667Z",
     "iopub.status.busy": "2024-05-03T12:06:16.843346Z",
     "iopub.status.idle": "2024-05-03T12:07:03.325364Z",
     "shell.execute_reply": "2024-05-03T12:07:03.324445Z",
     "shell.execute_reply.started": "2024-05-03T12:06:16.843643Z"
    }
   },
   "outputs": [
    {
     "name": "stdout",
     "output_type": "stream",
     "text": [
      "Running on local URL:  http://0.0.0.0:7860\n",
      "Running on public URL: https://710273a92ee7006dcc.gradio.live\n",
      "\n",
      "This share link expires in 72 hours. For free permanent hosting and GPU upgrades, run `gradio deploy` from Terminal to deploy to Spaces (https://huggingface.co/spaces)\n",
      "^C\n",
      "Keyboard interruption in main thread... closing server.\n",
      "Killing tunnel 0.0.0.0:7860 <> https://710273a92ee7006dcc.gradio.live\n"
     ]
    }
   ],
   "source": [
    "#%cd /notebooks/LLaMA-Factory\n",
    "!GRADIO_SHARE=True llamafactory-cli webui"
   ]
  },
  {
   "cell_type": "code",
   "execution_count": 6,
   "id": "465d3203-1706-4c49-9bf2-7ad5d46518b3",
   "metadata": {
    "execution": {
     "iopub.execute_input": "2024-05-03T12:25:46.247041Z",
     "iopub.status.busy": "2024-05-03T12:25:46.246156Z",
     "iopub.status.idle": "2024-05-03T12:25:49.501619Z",
     "shell.execute_reply": "2024-05-03T12:25:49.500884Z",
     "shell.execute_reply.started": "2024-05-03T12:25:46.247006Z"
    }
   },
   "outputs": [
    {
     "name": "stdout",
     "output_type": "stream",
     "text": [
      "Collecting urllib3<2\n",
      "  Using cached urllib3-1.26.18-py2.py3-none-any.whl (143 kB)\n",
      "Installing collected packages: urllib3\n",
      "  Attempting uninstall: urllib3\n",
      "    Found existing installation: urllib3 2.2.1\n",
      "    Uninstalling urllib3-2.2.1:\n",
      "      Successfully uninstalled urllib3-2.2.1\n",
      "\u001b[31mERROR: pip's dependency resolver does not currently take into account all the packages that are installed. This behaviour is the source of the following dependency conflicts.\n",
      "gradio 4.28.3 requires urllib3~=2.0, but you have urllib3 1.26.18 which is incompatible.\u001b[0m\u001b[31m\n",
      "\u001b[0mSuccessfully installed urllib3-1.26.18\n",
      "\u001b[33mWARNING: Running pip as the 'root' user can result in broken permissions and conflicting behaviour with the system package manager. It is recommended to use a virtual environment instead: https://pip.pypa.io/warnings/venv\u001b[0m\u001b[33m\n",
      "\u001b[0m"
     ]
    }
   ],
   "source": [
    "!pip install 'urllib3<2'"
   ]
  },
  {
   "cell_type": "code",
   "execution_count": 11,
   "id": "cda8d4bd-bbf4-4262-b192-52cbf10f03d5",
   "metadata": {
    "execution": {
     "iopub.execute_input": "2024-05-03T12:16:14.749781Z",
     "iopub.status.busy": "2024-05-03T12:16:14.748832Z",
     "iopub.status.idle": "2024-05-03T12:18:28.274169Z",
     "shell.execute_reply": "2024-05-03T12:18:28.273398Z",
     "shell.execute_reply.started": "2024-05-03T12:16:14.749749Z"
    }
   },
   "outputs": [
    {
     "name": "stdout",
     "output_type": "stream",
     "text": [
      "Found existing installation: wandb 0.13.4\n",
      "Uninstalling wandb-0.13.4:\n",
      "  Would remove:\n",
      "    /usr/local/bin/wandb\n",
      "    /usr/local/bin/wb\n",
      "    /usr/local/lib/python3.9/dist-packages/wandb-0.13.4.dist-info/*\n",
      "    /usr/local/lib/python3.9/dist-packages/wandb/*\n",
      "Proceed (Y/n)? ^C\n",
      "\u001b[31mERROR: Operation cancelled by user\u001b[0m\u001b[31m\n",
      "\u001b[0m"
     ]
    }
   ],
   "source": [
    "!pip3 uninstall wandb"
   ]
  },
  {
   "cell_type": "code",
   "execution_count": 5,
   "id": "71019327-6dbd-4e70-995e-e7ef2d33753e",
   "metadata": {
    "execution": {
     "iopub.execute_input": "2024-05-03T12:24:21.017098Z",
     "iopub.status.busy": "2024-05-03T12:24:21.016629Z",
     "iopub.status.idle": "2024-05-03T12:24:21.021542Z",
     "shell.execute_reply": "2024-05-03T12:24:21.021118Z",
     "shell.execute_reply.started": "2024-05-03T12:24:21.017078Z"
    }
   },
   "outputs": [],
   "source": [
    "import json\n",
    "\n",
    "args = dict(\n",
    "  stage=\"sft\",                        # do supervised fine-tuning\n",
    "  do_train=True,\n",
    "  model_name_or_path=\"unsloth/llama-3-8b-Instruct-bnb-4bit\", # use bnb-4bit-quantized Llama-3-8B-Instruct model\n",
    "  dataset=\"identity,alpaca_gpt4_en\",             # use alpaca and identity datasets\n",
    "  template=\"llama3\",                     # use llama3 prompt template\n",
    "  finetuning_type=\"lora\",                   # use LoRA adapters to save memory\n",
    "  lora_target=\"all\",                     # attach LoRA adapters to all linear layers\n",
    "  output_dir=\"llama3_lora\",                  # the path to save LoRA adapters\n",
    "  per_device_train_batch_size=2,               # the batch size\n",
    "  gradient_accumulation_steps=4,               # the gradient accumulation steps\n",
    "  lr_scheduler_type=\"cosine\",                 # use cosine learning rate scheduler\n",
    "  logging_steps=10,                      # log every 10 steps\n",
    "  warmup_ratio=0.1,                      # use warmup scheduler\n",
    "  save_steps=1000,                      # save checkpoint every 1000 steps\n",
    "  learning_rate=5e-5,                     # the learning rate\n",
    "  num_train_epochs=3.0,                    # the epochs of training\n",
    "  max_samples=500,                      # use 500 examples in each dataset\n",
    "  max_grad_norm=1.0,                     # clip gradient norm to 1.0\n",
    "  quantization_bit=4,                     # use 4-bit QLoRA\n",
    "  loraplus_lr_ratio=16.0,                   # use LoRA+ with lambda=16.0\n",
    "  use_unsloth=True,                      # use UnslothAI's LoRA optimization for 2x faster training\n",
    "  fp16=True,                         # use float16 mixed precision training\n",
    ")\n",
    "\n",
    "json.dump(args, open(\"train_llama3.json\", \"w\", encoding=\"utf-8\"), indent=2)\n",
    "\n",
    "# %cd /notebooks/LLaMA-Factory\n",
    "# !llamafactory-cli train train_llama3.json"
   ]
  },
  {
   "cell_type": "code",
   "execution_count": 7,
   "id": "36ca864e-aa79-4da9-a71e-1771b308ceae",
   "metadata": {
    "execution": {
     "iopub.execute_input": "2024-05-03T12:26:58.965721Z",
     "iopub.status.busy": "2024-05-03T12:26:58.965446Z",
     "iopub.status.idle": "2024-05-03T12:26:58.969683Z",
     "shell.execute_reply": "2024-05-03T12:26:58.969147Z",
     "shell.execute_reply.started": "2024-05-03T12:26:58.965698Z"
    }
   },
   "outputs": [
    {
     "name": "stdout",
     "output_type": "stream",
     "text": [
      "KUBERNETES_SERVICE_PORT 443\n",
      "KUBERNETES_PORT tcp://10.43.0.1:443\n",
      "HOSTNAME n608ut6wud\n",
      "JUPYTER_TOKEN 33dc278f6cd097624425683e09e65cbf\n",
      "LD_LIBRARY_PATH /usr/local/cuda-11.6/lib64\n",
      "HOME /root\n",
      "PAPERSPACE_NOTEBOOK_REPO_ID rw1hgwf73xmkv7o\n",
      "PAPERSPACE_CLUSTER_ID clg07azjl\n",
      "PIP_DISABLE_PIP_VERSION_CHECK 1\n",
      "KUBERNETES_PORT_443_TCP_ADDR 10.43.0.1\n",
      "PATH /usr/local/sbin:/usr/local/bin:/usr/sbin:/usr/bin:/sbin:/bin:/root/.local/bin:/usr/local/cuda-11.6/bin\n",
      "KUBERNETES_PORT_443_TCP_PORT 443\n",
      "DISABLE_JUPYTER true\n",
      "KUBERNETES_PORT_443_TCP_PROTO tcp\n",
      "PAPERSPACE_METRIC_WORKLOAD_TYPE notebook\n",
      "LANG C.UTF-8\n",
      "DEBIAN_FRONTEND noninteractive\n",
      "SHELL /bin/bash\n",
      "APT_INSTALL apt-get install -y --no-install-recommends\n",
      "KUBERNETES_SERVICE_PORT_HTTPS 443\n",
      "KUBERNETES_PORT_443_TCP tcp://10.43.0.1:443\n",
      "PAPERSPACE_FQDN n608ut6wud.clg07azjl.paperspacegradient.com\n",
      "KUBERNETES_SERVICE_HOST 10.43.0.1\n",
      "PWD /notebooks\n",
      "GIT_CLONE git clone --depth 10\n",
      "PAPERSPACE_NOTEBOOK_ID n608ut6wud\n",
      "NVIDIA_VISIBLE_DEVICES GPU-8bf12285-6464-3924-0b57-4e476e81d88a\n",
      "PIP_INSTALL python3 -m pip --no-cache-dir install --upgrade\n",
      "PAPERSPACE_METRIC_WORKLOAD_ID n608ut6wud\n",
      "GIT_PYTHON_REFRESH quiet\n",
      "PYDEVD_USE_FRAME_EVAL NO\n",
      "JPY_SESSION_NAME 294f4120-8438-4383-8923-967a8162e8c4\n",
      "JPY_PARENT_PID 7\n",
      "TERM xterm-color\n",
      "CLICOLOR 1\n",
      "PAGER cat\n",
      "GIT_PAGER cat\n",
      "MPLBACKEND module://matplotlib_inline.backend_inline\n"
     ]
    }
   ],
   "source": [
    "# @title\n",
    "import os\n",
    "for k, v in os.environ.items():\n",
    "  print(k, v)"
   ]
  },
  {
   "cell_type": "code",
   "execution_count": 9,
   "id": "601c5e5f-3c03-4b80-a779-62797f1570e0",
   "metadata": {
    "execution": {
     "iopub.execute_input": "2024-05-03T12:28:03.541969Z",
     "iopub.status.busy": "2024-05-03T12:28:03.541077Z",
     "iopub.status.idle": "2024-05-03T12:28:03.553351Z",
     "shell.execute_reply": "2024-05-03T12:28:03.552710Z",
     "shell.execute_reply.started": "2024-05-03T12:28:03.541944Z"
    }
   },
   "outputs": [],
   "source": [
    "import json\n",
    "\n",
    "args = dict(\n",
    "  model_name_or_path=\"unsloth/llama-3-8b-Instruct-bnb-4bit\", # use bnb-4bit-quantized Llama-3-8B-Instruct model\n",
    "  #adapter_name_or_path=\"llama3_lora\",            # load the saved LoRA adapters\n",
    "  finetuning_type=\"lora\",                  # same to the one in training\n",
    "  template=\"llama3\",                     # same to the one in training\n",
    "  quantization_bit=4,                    # load 4-bit quantized model\n",
    "  use_unsloth=True,                     # use UnslothAI's LoRA optimization for 2x faster generation\n",
    ")\n",
    "\n",
    "json.dump(args, open(\"infer_llama3.json\", \"w\", encoding=\"utf-8\"), indent=2)\n",
    "\n",
    "# %cd /notebooks/LLaMA-Factory\n",
    "# !llamafactory-cli chat infer_llama3.json"
   ]
  },
  {
   "cell_type": "code",
   "execution_count": null,
   "id": "03a5096d-d829-4560-9f49-1f2483cbfc2e",
   "metadata": {},
   "outputs": [],
   "source": []
  },
  {
   "cell_type": "code",
   "execution_count": null,
   "id": "d2c3e9cf-a036-4019-a956-0dcc6b323061",
   "metadata": {},
   "outputs": [],
   "source": []
  },
  {
   "cell_type": "code",
   "execution_count": null,
   "id": "ddabebea-b4b9-46bd-9134-35d19fc8e3be",
   "metadata": {},
   "outputs": [],
   "source": []
  }
 ],
 "metadata": {
  "kernelspec": {
   "display_name": "Python 3 (ipykernel)",
   "language": "python",
   "name": "python3"
  },
  "language_info": {
   "codemirror_mode": {
    "name": "ipython",
    "version": 3
   },
   "file_extension": ".py",
   "mimetype": "text/x-python",
   "name": "python",
   "nbconvert_exporter": "python",
   "pygments_lexer": "ipython3",
   "version": "3.9.16"
  }
 },
 "nbformat": 4,
 "nbformat_minor": 5
}
